{
 "cells": [
  {
   "cell_type": "code",
   "execution_count": 22,
   "id": "f4dde4e3",
   "metadata": {},
   "outputs": [
    {
     "name": "stderr",
     "output_type": "stream",
     "text": [
      "/tmp/ipykernel_7504/3631866705.py:5: DtypeWarning: Columns (0,1,2,7) have mixed types. Specify dtype option on import or set low_memory=False.\n",
      "  df_final = pd.read_csv('df_final.csv')\n"
     ]
    }
   ],
   "source": [
    "import pandas as pd\n",
    "from tqdm import tqdm\n",
    "import pymysql\n",
    "import numpy as np\n",
    "df_final = pd.read_csv('df_final.csv')\n",
    "conn = pymysql.connect(\n",
    "    host='35.241.209.88',\n",
    "    user='root', \n",
    "    password = \"#\\\\5.Go~{3Z^1*6.y\",\n",
    "    db='recomendacion',\n",
    ")\n"
   ]
  },
  {
   "cell_type": "code",
   "execution_count": 25,
   "id": "94c3cdd0",
   "metadata": {},
   "outputs": [
    {
     "name": "stderr",
     "output_type": "stream",
     "text": [
      "/tmp/ipykernel_7504/237451906.py:2: FutureWarning: A value is trying to be set on a copy of a DataFrame or Series through chained assignment using an inplace method.\n",
      "The behavior will change in pandas 3.0. This inplace method will never work because the intermediate object on which we are setting values always behaves as a copy.\n",
      "\n",
      "For example, when doing 'df[col].method(value, inplace=True)', try using 'df.method({col: value}, inplace=True)' or df[col] = df[col].method(value) instead, to perform the operation inplace on the original object.\n",
      "\n",
      "\n",
      "  df_final['poster_path'].fillna('', inplace=True)\n"
     ]
    },
    {
     "data": {
      "text/plain": [
       "poster_path    0\n",
       "imdb_id        0\n",
       "dtype: int64"
      ]
     },
     "execution_count": 25,
     "metadata": {},
     "output_type": "execute_result"
    }
   ],
   "source": [
    "df_final.dropna(subset='imdb_id', inplace=True)\n",
    "df_final['poster_path'].fillna('', inplace=True)\n",
    "df_final[['poster_path', 'imdb_id']].isnull().sum()"
   ]
  },
  {
   "cell_type": "code",
   "execution_count": 26,
   "id": "d7108691",
   "metadata": {},
   "outputs": [
    {
     "name": "stderr",
     "output_type": "stream",
     "text": [
      "100%|██████████| 39718/39718 [1:19:01<00:00,  8.38it/s]\n"
     ]
    }
   ],
   "source": [
    "\n",
    "with conn.cursor() as curs, tqdm(total=len(df_final)) as pbar:\n",
    "    for i, row in enumerate(df_final.itertuples(index=False), 1):\n",
    "        curs.execute(\n",
    "            \"UPDATE movies SET poster_path=%s WHERE imdb_id=%s\",\n",
    "            (row.poster_path, row.imdb_id)\n",
    "        )\n",
    "        pbar.update()\n",
    "\n",
    "        # commit every 500 updates to avoid huge transaction\n",
    "        if i % 500 == 0:\n",
    "            conn.commit()\n",
    "\n",
    "    # final commit\n",
    "    conn.commit()\n",
    "conn.close()\n"
   ]
  }
 ],
 "metadata": {
  "kernelspec": {
   "display_name": "base",
   "language": "python",
   "name": "python3"
  },
  "language_info": {
   "codemirror_mode": {
    "name": "ipython",
    "version": 3
   },
   "file_extension": ".py",
   "mimetype": "text/x-python",
   "name": "python",
   "nbconvert_exporter": "python",
   "pygments_lexer": "ipython3",
   "version": "3.12.7"
  }
 },
 "nbformat": 4,
 "nbformat_minor": 5
}
